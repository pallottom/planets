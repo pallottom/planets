{
  "cells": [
    {
      "cell_type": "markdown",
      "metadata": {
        "id": "view-in-github",
        "colab_type": "text"
      },
      "source": [
        "<a href=\"https://colab.research.google.com/github/pallottom/planets/blob/master/ploting_on_maps.ipynb\" target=\"_parent\"><img src=\"https://colab.research.google.com/assets/colab-badge.svg\" alt=\"Open In Colab\"/></a>"
      ]
    },
    {
      "cell_type": "markdown",
      "id": "b6b96c09-8975-42ca-a444-00ec0bd66f4d",
      "metadata": {
        "id": "b6b96c09-8975-42ca-a444-00ec0bd66f4d"
      },
      "source": [
        "# PLOTTING ON MAPS"
      ]
    },
    {
      "cell_type": "markdown",
      "id": "72171037-6a83-475b-abfc-3ad65d7c7fb2",
      "metadata": {
        "id": "72171037-6a83-475b-abfc-3ad65d7c7fb2"
      },
      "source": [
        "#### QUESTION"
      ]
    },
    {
      "cell_type": "markdown",
      "id": "0ddfc21c-6b2e-4494-97e3-8c4a2efd3d06",
      "metadata": {
        "id": "0ddfc21c-6b2e-4494-97e3-8c4a2efd3d06"
      },
      "source": [
        "How could we have changed/improved the animated plot from week 1?"
      ]
    },
    {
      "cell_type": "code",
      "source": [
        "from google.colab import drive\n",
        "drive.mount('/content/drive') # little extra step to allow colab to access my google drive"
      ],
      "metadata": {
        "id": "8rr-H-eLJLs2"
      },
      "id": "8rr-H-eLJLs2",
      "execution_count": null,
      "outputs": []
    },
    {
      "cell_type": "code",
      "execution_count": null,
      "id": "07c1ab0c-7c21-411d-9775-1577803864d4",
      "metadata": {
        "id": "07c1ab0c-7c21-411d-9775-1577803864d4"
      },
      "outputs": [],
      "source": [
        "!pip install geopandas==0.8.0\n",
        "!pip install folium"
      ]
    },
    {
      "cell_type": "code",
      "source": [
        "# move to colb directory\n",
        "cd drive/MyDrive/Colab\\ Notebooks"
      ],
      "metadata": {
        "id": "CR2i6opl5LZW"
      },
      "id": "CR2i6opl5LZW",
      "execution_count": null,
      "outputs": []
    },
    {
      "cell_type": "code",
      "source": [
        "# check that I am actually in the right directory\n",
        "ls"
      ],
      "metadata": {
        "id": "xhNALDST-jSo"
      },
      "id": "xhNALDST-jSo",
      "execution_count": null,
      "outputs": []
    },
    {
      "cell_type": "markdown",
      "id": "c19e7ea9-9960-4141-ba41-b54cb6eab773",
      "metadata": {
        "tags": [],
        "id": "c19e7ea9-9960-4141-ba41-b54cb6eab773"
      },
      "source": [
        "#### READ DATA"
      ]
    },
    {
      "cell_type": "markdown",
      "id": "abf83ac1-7626-4ae9-a9fd-7fa6dacf8dab",
      "metadata": {
        "id": "abf83ac1-7626-4ae9-a9fd-7fa6dacf8dab"
      },
      "source": [
        "We need to import two types of data:\n",
        "1. the values we want to plot (numerical data, ex. .csv );\n",
        "2. the shape of the country/lands/veedel/area we want to visualize (shape file)."
      ]
    },
    {
      "cell_type": "code",
      "execution_count": null,
      "id": "30b3dd77-e7fc-425d-a9c8-1cdf19dddaa0",
      "metadata": {
        "id": "30b3dd77-e7fc-425d-a9c8-1cdf19dddaa0"
      },
      "outputs": [],
      "source": [
        "# read historical temperature data\n",
        "data = 'data/all_country_temp_data_CLEAN.csv'\n",
        "import pandas as pd\n",
        "ddf = pd.read_csv(data)"
      ]
    },
    {
      "cell_type": "code",
      "execution_count": null,
      "id": "5cd844b6-cad9-4caa-a947-28b072d03f4c",
      "metadata": {
        "id": "5cd844b6-cad9-4caa-a947-28b072d03f4c"
      },
      "outputs": [],
      "source": [
        "ddf"
      ]
    },
    {
      "cell_type": "code",
      "execution_count": null,
      "id": "73fc27f4-459f-45f4-bcab-6992710726f0",
      "metadata": {
        "id": "73fc27f4-459f-45f4-bcab-6992710726f0"
      },
      "outputs": [],
      "source": [
        "# read geographical data (what's a shape file?)\n",
        "shapefile= 'data/ne_110m_admin_0_countries.shp'\n",
        "import geopandas as gpd\n",
        "gdf = gpd.read_file(shapefile)"
      ]
    },
    {
      "cell_type": "code",
      "execution_count": null,
      "id": "e0e65bea-a2f0-4c28-9105-627eb1bcbe4e",
      "metadata": {
        "id": "e0e65bea-a2f0-4c28-9105-627eb1bcbe4e"
      },
      "outputs": [],
      "source": [
        "gdf"
      ]
    },
    {
      "cell_type": "markdown",
      "id": "3901f671-af7d-49d8-9047-7141274220ef",
      "metadata": {
        "tags": [],
        "id": "3901f671-af7d-49d8-9047-7141274220ef"
      },
      "source": [
        "#### DATASET PREPARATION"
      ]
    },
    {
      "cell_type": "code",
      "execution_count": null,
      "id": "af9b8fe1-98b0-4f05-a07e-f633bfd6ddf5",
      "metadata": {
        "id": "af9b8fe1-98b0-4f05-a07e-f633bfd6ddf5"
      },
      "outputs": [],
      "source": [
        "# gdf is a bit too big and chaotic, let's clean it up!\n",
        "gdf = gpd.read_file(shapefile)[['ADMIN', 'geometry']] # import only ADMIN and geometry columns\n",
        "gdf.columns = ['country', 'geometry'] # rename the columns\n",
        "# ddf we want to group ausung the mean of monthy_anomaly (one value for year)\n",
        "ddf = ddf.groupby(['country', 'year'])[['monthly_anomaly']].mean().reset_index() #get the mean of the year"
      ]
    },
    {
      "cell_type": "markdown",
      "id": "372e0169-c840-49d4-8f2a-dc091788ec4b",
      "metadata": {
        "id": "372e0169-c840-49d4-8f2a-dc091788ec4b"
      },
      "source": [
        "We need ONE only dataset with: country name, geometry of the contry and 'monthly anomaly'"
      ]
    },
    {
      "cell_type": "code",
      "execution_count": null,
      "id": "db2a0aa8-34e7-471d-b181-fdfe6d2a6add",
      "metadata": {
        "id": "db2a0aa8-34e7-471d-b181-fdfe6d2a6add"
      },
      "outputs": [],
      "source": [
        "# merge gdf and ddf\n",
        "df = pd.merge(left=gdf, right=ddf, how='left', on='country')"
      ]
    },
    {
      "cell_type": "code",
      "execution_count": null,
      "id": "c5b38ee5-71f9-494a-9a18-b735ff064a75",
      "metadata": {
        "id": "c5b38ee5-71f9-494a-9a18-b735ff064a75"
      },
      "outputs": [],
      "source": [
        "# convert the data relative to year 2000 to JSON data\n",
        "df_2000 = df[df['year'] == 2000] \n",
        "json_2000 = df_2000.to_json() "
      ]
    },
    {
      "cell_type": "markdown",
      "id": "5eb3b417-610c-49b8-ab64-74f38b8d0336",
      "metadata": {
        "tags": [],
        "id": "5eb3b417-610c-49b8-ab64-74f38b8d0336"
      },
      "source": [
        "#### GENERATE THE CHOROPLETH MAP"
      ]
    },
    {
      "cell_type": "code",
      "execution_count": null,
      "id": "251fd201-a77e-44e3-acfe-7798f2d4127d",
      "metadata": {
        "id": "251fd201-a77e-44e3-acfe-7798f2d4127d"
      },
      "outputs": [],
      "source": [
        "import folium\n",
        "tiles = folium.Choropleth(\n",
        "            geo_data=json_2000,                 # geojson string that includes the geo data (for the year 2000)\n",
        "            name=\"2000 Data\",                   # just a title\n",
        "            data=df_2000,                      # dataframe that includes the data (for the year 2000)\n",
        "            columns=['country','monthly_anomaly'], # names of the columns to include from the dataframe\n",
        "            key_on='properties.country',        # name of JSON key within the \"properties\" value that contains country names\n",
        "            fill_color='YlGnBu',                # play around with the rest of the aesthetic options\n",
        "            nan_fill_color='black',         \n",
        "            fill_opacity=0.8,\n",
        "            line_opacity=0.1,\n",
        "            legend_name='Monthly Temperature Anomaly', # Name of variable for the colour bar.\n",
        "            highlight=True,\n",
        "        )"
      ]
    },
    {
      "cell_type": "markdown",
      "id": "a98e67e3-0f1c-469b-ad3c-1ba65d358dc0",
      "metadata": {
        "tags": [],
        "id": "a98e67e3-0f1c-469b-ad3c-1ba65d358dc0"
      },
      "source": [
        "#### CREATE A WHITE BASELINE MAP"
      ]
    },
    {
      "cell_type": "code",
      "execution_count": null,
      "id": "a94de0b0-1458-421e-abb2-163bc1d1fcfb",
      "metadata": {
        "id": "a94de0b0-1458-421e-abb2-163bc1d1fcfb"
      },
      "outputs": [],
      "source": [
        "my_map = folium.Map(location=[52.54, 13.36], #coordinates of the center of the map\n",
        "                zoom_start=2,\n",
        "                tiles='CartoDB positron') #try out the other options!"
      ]
    },
    {
      "cell_type": "code",
      "execution_count": null,
      "id": "f896d286-929e-4385-b76a-41a944f9d289",
      "metadata": {
        "id": "f896d286-929e-4385-b76a-41a944f9d289"
      },
      "outputs": [],
      "source": [
        "my_map"
      ]
    },
    {
      "cell_type": "markdown",
      "id": "080da2b2-1105-4f12-b4d0-014453be87a8",
      "metadata": {
        "tags": [],
        "id": "080da2b2-1105-4f12-b4d0-014453be87a8"
      },
      "source": [
        "#### MERGE AND VISUALIZE THE TWO MAPS"
      ]
    },
    {
      "cell_type": "code",
      "execution_count": null,
      "id": "61a2b7a7-3908-4b21-81a0-36f2db0f0775",
      "metadata": {
        "id": "61a2b7a7-3908-4b21-81a0-36f2db0f0775"
      },
      "outputs": [],
      "source": [
        "tiles.add_to(my_map) #add the layer to the blank canvas / figure\n",
        "my_map"
      ]
    },
    {
      "cell_type": "code",
      "execution_count": null,
      "id": "95bde58c-b706-4ef2-9c73-132057170319",
      "metadata": {
        "id": "95bde58c-b706-4ef2-9c73-132057170319"
      },
      "outputs": [],
      "source": [
        "basemap.save('mymap.html')"
      ]
    },
    {
      "cell_type": "markdown",
      "id": "fddc772d-6d39-4235-861d-f30be0e60a5c",
      "metadata": {
        "tags": [],
        "id": "fddc772d-6d39-4235-861d-f30be0e60a5c"
      },
      "source": [
        "#### MORE INFO"
      ]
    },
    {
      "cell_type": "markdown",
      "id": "bd59a7e4-5e2e-417c-9320-d83ce83f7051",
      "metadata": {
        "id": "bd59a7e4-5e2e-417c-9320-d83ce83f7051"
      },
      "source": [
        "- [folium](https://python-visualization.github.io/folium/)\n",
        "- [geopandas and choropleph](https://geopandas.org/en/stable/gallery/choro_legends.html)\n",
        "- [JSON](https://en.wikipedia.org/wiki/JSON)\n",
        "- [Plotly: another graphing tool](https://plotly.com/python/)\n",
        "- [comparison folium Plotly](https://mari-galdina.medium.com/mapping-data-plotly-vs-folium-1fa2747c9d35)"
      ]
    },
    {
      "cell_type": "code",
      "execution_count": null,
      "id": "b3576455-3825-470d-9fad-dfc5d91a598c",
      "metadata": {
        "id": "b3576455-3825-470d-9fad-dfc5d91a598c"
      },
      "outputs": [],
      "source": [
        ""
      ]
    }
  ],
  "metadata": {
    "kernelspec": {
      "display_name": "Python 3 (ipykernel)",
      "language": "python",
      "name": "python3"
    },
    "language_info": {
      "codemirror_mode": {
        "name": "ipython",
        "version": 3
      },
      "file_extension": ".py",
      "mimetype": "text/x-python",
      "name": "python",
      "nbconvert_exporter": "python",
      "pygments_lexer": "ipython3",
      "version": "3.10.2"
    },
    "toc-showcode": false,
    "colab": {
      "name": "ploting_on_maps.ipynb",
      "provenance": [],
      "include_colab_link": true
    }
  },
  "nbformat": 4,
  "nbformat_minor": 5
}